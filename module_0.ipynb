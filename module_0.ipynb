{
 "cells": [
  {
   "cell_type": "code",
   "execution_count": 5,
   "metadata": {},
   "outputs": [
    {
     "name": "stdout",
     "output_type": "stream",
     "text": [
      "Ваш алгоритм угадывает число в среднем за 5 попыток\n"
     ]
    }
   ],
   "source": [
    "import numpy as np\n",
    "count_ls = []\n",
    "np.random.seed(1)\n",
    "random_array = np.random.randint(1, 101, size=(1000))\n",
    "#Runs the cycle 1000 times\n",
    "for predict in random_array:\n",
    "    count = 0\n",
    "    low = 0\n",
    "    high = 101\n",
    "    number = (high+low) // 2\n",
    "    # Runs the binary search algorithm\n",
    "    while True:\n",
    "        count +=1\n",
    "        if number > predict:\n",
    "            high = number\n",
    "            number = (high+low) // 2\n",
    "        elif number < predict:\n",
    "            low = number\n",
    "            number = (high+low) // 2\n",
    "        elif number == predict:\n",
    "            count_ls.append(count)\n",
    "            break\n",
    "#Finding the average number of attempts\n",
    "score = int(np.mean(count_ls))\n",
    "print(f\"Ваш алгоритм угадывает число в среднем за {score} попыток\")"
   ]
  },
  {
   "cell_type": "code",
   "execution_count": null,
   "metadata": {},
   "outputs": [],
   "source": []
  }
 ],
 "metadata": {
  "kernelspec": {
   "display_name": "Python 3",
   "language": "python",
   "name": "python3"
  },
  "language_info": {
   "codemirror_mode": {
    "name": "ipython",
    "version": 3
   },
   "file_extension": ".py",
   "mimetype": "text/x-python",
   "name": "python",
   "nbconvert_exporter": "python",
   "pygments_lexer": "ipython3",
   "version": "3.8.5"
  }
 },
 "nbformat": 4,
 "nbformat_minor": 4
}
